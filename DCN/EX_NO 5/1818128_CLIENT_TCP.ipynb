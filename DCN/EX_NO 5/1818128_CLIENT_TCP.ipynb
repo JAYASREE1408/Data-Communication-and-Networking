{
 "cells": [
  {
   "cell_type": "code",
   "execution_count": 1,
   "metadata": {},
   "outputs": [
    {
     "name": "stdout",
     "output_type": "stream",
     "text": [
      "Socket created Successfully!!\n"
     ]
    },
    {
     "name": "stdin",
     "output_type": "stream",
     "text": [
      "Enter the Port Number: 6222\n",
      "Enter the Message: Hello Server!I am Client...\n"
     ]
    },
    {
     "name": "stdout",
     "output_type": "stream",
     "text": [
      "b'Hey Client!Nice to meet u...'\n"
     ]
    },
    {
     "name": "stdin",
     "output_type": "stream",
     "text": [
      "Enter the Message: bye\n"
     ]
    },
    {
     "name": "stdout",
     "output_type": "stream",
     "text": [
      "b'bye'\n"
     ]
    }
   ],
   "source": [
    "# HALF DUPLEX COMMUNICATION USING TCP - CLIENT SIDE:\n",
    "\n",
    "import socket # Import socket module in python\n",
    "try:\n",
    "    s = socket.socket(socket.AF_INET,socket.SOCK_STREAM) # Create a TCP socket \n",
    "    print(\"Socket created Successfully!!\") # If it is created,print this line\n",
    "except socket.error.msg: \n",
    "    print(\"Error: Failed to create the socket!!\") # If it is not created,print this line\n",
    "portno=int(input(\"Enter the Port Number:\")) # Get port from the client \n",
    "s.connect(('127.0.0.1',portno)) # IP address and port no is specified for the connection\n",
    "\n",
    "while True:\n",
    "    message=input(\"Enter the Message:\") # Get message from the client\n",
    "    s.send(str.encode(message)) # Sending message to the server\n",
    "    data=s.recv(2048) # Receiving the packets sent by the server\n",
    "    print(data)  # Message received is printed\n",
    "    if \"bye\" in str(data):  # To terminate the communication ,enter 'bye'\n",
    "         break\n",
    "    elif \"continue\" in str(data):   # To continue the communication ,enter 'continue'\n",
    "         continue\n"
   ]
  },
  {
   "cell_type": "code",
   "execution_count": null,
   "metadata": {},
   "outputs": [],
   "source": []
  }
 ],
 "metadata": {
  "kernelspec": {
   "display_name": "Python 3",
   "language": "python",
   "name": "python3"
  },
  "language_info": {
   "codemirror_mode": {
    "name": "ipython",
    "version": 3
   },
   "file_extension": ".py",
   "mimetype": "text/x-python",
   "name": "python",
   "nbconvert_exporter": "python",
   "pygments_lexer": "ipython3",
   "version": "3.8.3"
  }
 },
 "nbformat": 4,
 "nbformat_minor": 4
}
