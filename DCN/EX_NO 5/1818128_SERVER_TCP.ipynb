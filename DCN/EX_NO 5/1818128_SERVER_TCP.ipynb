{
 "cells": [
  {
   "cell_type": "code",
   "execution_count": 1,
   "metadata": {},
   "outputs": [
    {
     "name": "stdout",
     "output_type": "stream",
     "text": [
      "Socket is created Successfully!\n"
     ]
    },
    {
     "name": "stdin",
     "output_type": "stream",
     "text": [
      "Enter the Port Number: 6222\n"
     ]
    },
    {
     "name": "stdout",
     "output_type": "stream",
     "text": [
      "b'Hello Server!I am Client...'\n"
     ]
    },
    {
     "name": "stdin",
     "output_type": "stream",
     "text": [
      "Enter the Message Hey Client!Nice to meet u...\n"
     ]
    },
    {
     "name": "stdout",
     "output_type": "stream",
     "text": [
      "b'bye'\n"
     ]
    },
    {
     "name": "stdin",
     "output_type": "stream",
     "text": [
      "Enter the Message bye\n"
     ]
    }
   ],
   "source": [
    "# HALF DUPLEX COMMUNICATION USING TCP - SERVER SIDE:\n",
    "import socket  # Import socket module in python\n",
    "try:\n",
    "    s=socket.socket(socket.AF_INET,socket.SOCK_STREAM)  # Create TCP socket\n",
    "    print(\"Socket is created Successfully!\") # If it is created,print this line\n",
    "except socket.error.msg:\n",
    "    print(\"Error: Failed to create the socket\") # If it is not created,print this line\n",
    "portno=int(input(\"Enter the Port Number:\")) # Get port no. from the server\n",
    "s.bind(('127.0.0.1',portno))  # Bind the host ip address and the port number\n",
    "# Listening to the client's message\n",
    "s.listen(1)    # Set the client and client'address by the client's request\n",
    "client,addr = s.accept()   # Accepting the input from the client\n",
    "while True:\n",
    "    data=client.recv(2048) # Receiving the packets sent by the client\n",
    "    print(data)  # Message received is printed\n",
    "    input1=input(\"Enter the Message\") # Get the message from the server\n",
    "    client.send(str.encode(input1)) # Send the message to the client\n",
    "    if \"bye\" in str(input1): # To terminate the communication ,enter 'bye'\n",
    "        break\n",
    "    elif \"continue\" in str(input1): # To continue the communication ,enter 'continue'\n",
    "        continue\n",
    "client.close()\n"
   ]
  },
  {
   "cell_type": "code",
   "execution_count": null,
   "metadata": {},
   "outputs": [],
   "source": []
  }
 ],
 "metadata": {
  "kernelspec": {
   "display_name": "Python 3",
   "language": "python",
   "name": "python3"
  },
  "language_info": {
   "codemirror_mode": {
    "name": "ipython",
    "version": 3
   },
   "file_extension": ".py",
   "mimetype": "text/x-python",
   "name": "python",
   "nbconvert_exporter": "python",
   "pygments_lexer": "ipython3",
   "version": "3.8.3"
  }
 },
 "nbformat": 4,
 "nbformat_minor": 4
}
