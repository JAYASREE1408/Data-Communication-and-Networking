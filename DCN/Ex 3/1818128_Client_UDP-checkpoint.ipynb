{
 "cells": [
  {
   "cell_type": "code",
   "execution_count": null,
   "metadata": {},
   "outputs": [],
   "source": [
    "import socket\n",
    "UDP_IP_ADDRESS =\"127.0.0.1\"\n",
    "UDP_PORT_NO = 6789\n",
    "Message = (\"Hello, GCT!\")\n",
    "bytesToSend = str.encode(Message)\n",
    "clientSock = socket.socket(socket.AF_INET, socket.SOCK_DGRAM)\n",
    "clientSock.sendto(bytesToSend, (UDP_IP_ADDRESS, UDP_PORT_NO))"
   ]
  },
  {
   "cell_type": "code",
   "execution_count": null,
   "metadata": {},
   "outputs": [
    {
     "name": "stdout",
     "output_type": "stream",
     "text": [
      "Server is waiting!\n"
     ]
    }
   ],
   "source": [
    "import socket\n",
    "UDP_IP_ADDRESS =\"127.0.0.1\"\n",
    "UDP_PORT_NO = 6789\n",
    "serverSock = socket.socket(socket.AF_INET, socket.SOCK_DGRAM)\n",
    "serverSock.bind((UDP_IP_ADDRESS, UDP_PORT_NO))\n",
    "print(\"Server is waiting!\")\n",
    "while True:\n",
    "    data, addr = serverSock.recvfrom(1024)\n",
    "    print (\"Message: \", data)"
   ]
  },
  {
   "cell_type": "code",
   "execution_count": null,
   "metadata": {},
   "outputs": [],
   "source": []
  },
  {
   "cell_type": "code",
   "execution_count": null,
   "metadata": {},
   "outputs": [],
   "source": []
  }
 ],
 "metadata": {
  "kernelspec": {
   "display_name": "Python 3",
   "language": "python",
   "name": "python3"
  }
 },
 "nbformat": 4,
 "nbformat_minor": 4
}
