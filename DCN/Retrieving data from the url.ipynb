{
 "cells": [
  {
   "cell_type": "code",
   "execution_count": 6,
   "metadata": {},
   "outputs": [
    {
     "name": "stdin",
     "output_type": "stream",
     "text": [
      "Enter the URL  http://www.gct.ac.in/library-0\n"
     ]
    },
    {
     "name": "stdout",
     "output_type": "stream",
     "text": [
      "The given URL exists!\n",
      "b'<!DOCTYPE html PUBLIC \"-//W3C//DTD XHTML+RDFa 1.0//EN\"\\r\\n  \"http://www.w3.org/MarkUp/DTD/xhtml-rdfa-1.dtd\">\\r\\n<html xmlns=\"http://www.w3.org/1999/xhtml\" xml:lang=\"en\" version=\"XHTML+RDFa 1.0\" dir=\"ltr\"\\n  xmlns:content=\"http://purl.org/rss/1.0/modules/content/\"\\n  xmlns:dc=\"http://purl.org/dc/terms/\"\\n  xmlns:foaf=\"http://xmlns.com/foaf/0.1/\"\\n  xmlns:og=\"http://ogp.me/ns#\"\\n  xmlns:rdfs=\"http://www.w3.org/2000/01/rdf-schema#\"\\n  xmlns:sioc=\"http://rdfs.org/sioc/ns#\"\\n  xmlns:sioct=\"http://rdfs.org/sioc/types#\"\\n  xmlns:skos=\"http://www.w3.org/2004/02/skos/core#\"\\n  xmlns:xsd=\"http://www.w3.org/2001/XMLSchema#\">\\r\\n\\r\\n<head profile=\"http://www.w3.org/1999/xhtml/vocab\">\\r\\n    <meta http-equiv=\"content-type\" content=\"text/html; charset=utf-8\" />\\r\\n    <meta name=\"viewport\" content=\"width=device-width, initial-scale=1.0\">\\r\\n    <meta http-equiv=\"Content-Type\" content=\"text/html; charset=utf-8\" />\\n<meta name=\"Generator\" content=\"Drupal 7 (http://drupal.org)\" />\\n<link rel=\"canonical\" href=\"/library-0\" />\\n<link rel=\"shortlink\" href=\"/node/618\" />\\n<meta name=\"robots\" content=\"noimageindex\" />\\n<link rel=\"shortcut icon\" href=\"http://www.gct.ac.in/sites/gct.ac.in/files/favicon_0.ico\" type=\"image/vnd.microsoft.icon\" />\\n   \\r\\n    <title>Library | Government College Of Technology</title>\\r\\n    \\r\\n    <style type=\"text/css\" media=\"all\">\\n@import url(\"http://www.gct.ac.in/modules/system/system.base.css?qg5akk\");\\n@import url(\"http://www.gct.ac.in/modules/system/system.menus.css?qg5akk\");\\n@import url(\"http://www.gct.ac.in/modules/system/system.messages.css?qg5akk\");\\n@import url(\"http://www.gct.ac.in/modules/system/system.theme.css?qg5akk\");\\n</style>\\n<style type=\"text/css\" media=\"all\">\\n@import url(\"http://www.gct.ac.in/sites/all/modules/calendar/css/calendar_multiday.css?qg5akk\");\\n@import url(\"http://www.gct.ac.in/modules/comment/comment.css?qg5akk\");\\n@import url(\"http://www.gct.ac.in/sites/all/modules/date/date_api/date.css?qg5akk\");\\n@import url(\"http://www.gct.ac.in/sites/all/modules/date/date_popup/th'\n",
      "---LIBRARY WEBSITE OF GOVERNMENT COLLEGE OF TECHNOLOGY---\n",
      "* This website gives the information about library facilities at GCT.\n",
      "* The library boasts excellent facilities and it serves as a place for quiet reading, group collaboration, individual    research and recreational reading.\n",
      "* It provides some information about modern central library.\n",
      "* It is associated with more than one lakh documents consisting of technical books, reports, standards and back volumes of journals.\n",
      "* It also contains 15,000 books in textbook bank.\n",
      "* This website provides some details about issue section, journals, teqip fund and digital library.\n",
      "* It also provides some details about the supporting staffs.\n"
     ]
    }
   ],
   "source": [
    "                                   # RETRIEVING DATA FROM THE URL :\n",
    "\n",
    "import urllib.request,urllib.error,urllib.parse      # Importing the URL library\n",
    "try:\n",
    "        url=input(\"Enter the URL\")                   # Getting URL from the user\n",
    "        response=urllib.request.urlopen(url)         # Requesting the data from the URL\n",
    "        print(\"The given URL exists!\")               # Prints if the entered URL exists\n",
    "        webContent=response.read()                   # Decoding the URL and response fom the web is read\n",
    "        print(webContent[0:2000])                    # Prints the web contents\n",
    "        print(\"---LIBRARY WEBSITE OF GOVERNMENT COLLEGE OF TECHNOLOGY---\") # Prints information about the URL \n",
    "        print(\"* This website gives the information about library facilities at GCT.\")\n",
    "        print(\"* The library boasts excellent facilities and it serves as a place for quiet reading, group collaboration, individual    research and recreational reading.\")\n",
    "        print(\"* It provides some information about modern central library.\")\n",
    "        print(\"* It is associated with more than one lakh documents consisting of technical books, reports, standards and back volumes of journals.\")\n",
    "        print(\"* It also contains 15,000 books in textbook bank.\")\n",
    "        print(\"* This website provides some details about issue section, journals, teqip fund and digital library.\")\n",
    "        print(\"* It also provides some details about the supporting staffs.\")\n",
    "        \n",
    "except:\n",
    "        print(\"The given URL doesn't exists!\")       # Prints if the entered URL doesn't exists"
   ]
  },
  {
   "cell_type": "code",
   "execution_count": null,
   "metadata": {},
   "outputs": [],
   "source": []
  }
 ],
 "metadata": {
  "kernelspec": {
   "display_name": "Python 3",
   "language": "python",
   "name": "python3"
  },
  "language_info": {
   "codemirror_mode": {
    "name": "ipython",
    "version": 3
   },
   "file_extension": ".py",
   "mimetype": "text/x-python",
   "name": "python",
   "nbconvert_exporter": "python",
   "pygments_lexer": "ipython3",
   "version": "3.8.3"
  }
 },
 "nbformat": 4,
 "nbformat_minor": 4
}
