{
 "cells": [
  {
   "cell_type": "code",
   "execution_count": null,
   "metadata": {},
   "outputs": [],
   "source": [
    "import socket\n",
    "import sys\n",
    "import time\n",
    "x=socket.socket()\n",
    "host_name=input(str(\"Enter the hostname of the Server!!!\"))\n",
    "port=(int(input(\"Enter the port number!\")))\n",
    "x.connect((host_name,port))\n",
    "print(\"Hey!You can have a chat now.You are connected to chat Server...\")\n",
    "while True:\n",
    "    incoming_mesg=x.recv(1024)\n",
    "    incoming_msg=incoming_mesg.decode()\n",
    "    print(\"Server :\",incoming_msg)\n",
    "    msg=input(str(\"Enter the message:\"))\n",
    "    Msg=msg.encode()\n",
    "    x.send(Msg)\n",
    "    print(\"Message has been sent successfully!!!\")\n",
    "    msg=input(str(\"Enter the message:\"))"
   ]
  },
  {
   "cell_type": "code",
   "execution_count": 4,
   "metadata": {},
   "outputs": [
    {
     "name": "stdin",
     "output_type": "stream",
     "text": [
      " please enter their ip address : 127.0.0.1\n",
      " please enter the port of the other party : 6999\n",
      " please enter a message to send ： hlo\n"
     ]
    },
    {
     "name": "stdout",
     "output_type": "stream",
     "text": [
      " please enter a message to send ："
     ]
    },
    {
     "name": "stderr",
     "output_type": "stream",
     "text": [
      "Exception in thread Thread-7:\n",
      "Traceback (most recent call last):\n",
      "  File \"C:\\Users\\Shanthi Ponnusamy\\anaconda3\\New folder\\lib\\threading.py\", line 932, in _bootstrap_inner\n",
      "    self.run()\n",
      "  File \"C:\\Users\\Shanthi Ponnusamy\\anaconda3\\New folder\\lib\\threading.py\", line 870, in run\n",
      "Exception in thread     self._target(*self._args, **self._kwargs)\n",
      "  File \"<ipython-input-4-26b714baf88d>\", line 16, in recv_msg\n",
      "Thread-6:\n",
      "Traceback (most recent call last):\n",
      "  File \"C:\\Users\\Shanthi Ponnusamy\\anaconda3\\New folder\\lib\\threading.py\", line 932, in _bootstrap_inner\n",
      "ConnectionResetError:     self.run()\n",
      "  File \"C:\\Users\\Shanthi Ponnusamy\\anaconda3\\New folder\\lib\\threading.py\", line 870, in run\n",
      "    self._target(*self._args, **self._kwargs)\n",
      "  File \"<ipython-input-4-26b714baf88d>\", line 9, in send_msg\n",
      "EOFError: EOF when reading a line\n",
      "[WinError 10054] An existing connection was forcibly closed by the remote host\n"
     ]
    }
   ],
   "source": [
    "import socket\n",
    "import threading\n",
    "\n",
    "\n",
    "def send_msg(udp_socket, dest_ip, dest_port):\n",
    "    \"\"\" send a message \"\"\"\n",
    "    #  gets the content to send \n",
    "    while True:\n",
    "        send_data = input(\" please enter a message to send ：\")\n",
    "        udp_socket.sendto(send_data.encode(\"gbk\"), (dest_ip, dest_port))\n",
    "\n",
    "\n",
    "def recv_msg(udp_socket,):\n",
    "    \"\"\" receive data \"\"\"\n",
    "    while True:\n",
    "        recv_data = udp_socket.recvfrom(1024)\n",
    "        print(\"\\n got the message %s:%s\" % (str(recv_data[1]), recv_data[0].decode(\"gbk\")))\n",
    "\n",
    "\n",
    "def main():\n",
    "    # 1. create a socket, AF_INET is network oriented, UDP the name of the socket is sock _DGRAM\n",
    "    udp_socket = socket.socket(socket.AF_INET, socket.SOCK_DGRAM)\n",
    "\n",
    "    # 2. bind the native ip and port : if the first parameter is null, the local ip will be bound by default, and the second parameter is the port number \n",
    "    udp_socket.bind((\"\", 7788))\n",
    "\n",
    "    # 3. specify the ip of the other party \n",
    "    dest_ip = input(\" please enter their ip address :\")\n",
    "    dest_port = int(input(\" please enter the port of the other party :\"))\n",
    "\n",
    "    # 4. create a thread and run it ：args you need a tuple parameter \n",
    "    ts = threading.Thread(target=send_msg, args=(udp_socket, dest_ip, dest_port))\n",
    "    tr = threading.Thread(target=recv_msg, args=(udp_socket,))\n",
    "    ts.start()\n",
    "    tr.start()\n",
    "\n",
    "\n",
    "if __name__ == \"__main__\":\n",
    "    main()\n",
    " \n",
    " \n",
    "# 3. run\n",
    "# prepare for operation. prepare two computers ， one run program （ a computer ）， another （ hereinafter referred to as \\\"b\\\" ） use mnetassist （ network mode assistant, download link : https://pan.baidu.com/s/1Sq1SvqJnxbijrx4kSYbc1g extract the code : 1f8b） test the program. Windows turn on cmd ipcongfig query the ip （linux the ifconfig query is used below ）， the query results are as follows ：A computer ip for 172.16.86.21，B the ip of the computer is 172.17.189.148。 and then the b computer mNetAssist setup configuration is as follows\n",
    "\n",
    "\n",
    "\n",
    "# next, run the program and enter B the ip and port number of the computer ， then send messages to each other, and the results are as follows\n",
    "\n"
   ]
  },
  {
   "cell_type": "code",
   "execution_count": null,
   "metadata": {},
   "outputs": [],
   "source": []
  }
 ],
 "metadata": {
  "kernelspec": {
   "display_name": "Python 3",
   "language": "python",
   "name": "python3"
  },
  "language_info": {
   "codemirror_mode": {
    "name": "ipython",
    "version": 3
   },
   "file_extension": ".py",
   "mimetype": "text/x-python",
   "name": "python",
   "nbconvert_exporter": "python",
   "pygments_lexer": "ipython3",
   "version": "3.8.3"
  }
 },
 "nbformat": 4,
 "nbformat_minor": 4
}
